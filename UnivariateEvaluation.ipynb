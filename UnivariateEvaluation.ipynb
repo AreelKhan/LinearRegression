{
 "cells": [
  {
   "cell_type": "code",
   "execution_count": 1,
   "metadata": {
    "pycharm": {
     "name": "#%%\n"
    }
   },
   "outputs": [],
   "source": [
    "import numpy as np\n",
    "from sklearn.model_selection import train_test_split\n",
    "from sklearn.metrics import mean_squared_error\n",
    "\n",
    "from DataDefinitionFunctions import double\n",
    "from LinearRegression import LinearRegression"
   ]
  },
  {
   "cell_type": "markdown",
   "metadata": {},
   "source": [
    "## Testing Univariate Linear Regression\n",
    "### Test 1\n",
    "In this first test, the model is tasked with learning a very simple relation: $2x=y$.\n",
    "For univariate linear regression, the hypothesis function is $y =\\theta_0 + \\theta_1x$.\n",
    "Ideally the model sets $(\\theta_0, \\theta_1) = (0,2)$."
   ]
  },
  {
   "cell_type": "code",
   "execution_count": 2,
   "metadata": {
    "pycharm": {
     "name": "#%%\n"
    }
   },
   "outputs": [],
   "source": [
    "# Data definition\n",
    "X = np.random.uniform(size=400)\n",
    "Y = double(X)\n",
    "\n",
    "# Data split\n",
    "X_train, X_test, y_train, y_test = train_test_split(X, Y, test_size=0.30, random_state=69)\n",
    "\n",
    "# Number of features\n",
    "n = 1\n",
    "\n",
    "# Parameters\n",
    "theta = np.ones(shape=n+1)"
   ]
  },
  {
   "cell_type": "code",
   "execution_count": 3,
   "metadata": {},
   "outputs": [
    {
     "name": "stderr",
     "output_type": "stream",
     "text": [
      "100%|██████████████████████████████████████████████████████████████████████████| 2000/2000 [00:00<00:00, 112070.75it/s]\n"
     ]
    }
   ],
   "source": [
    "trained_parameters = LinearRegression.gradient_descent(n, X_train, y_train, 0.05, 2000)"
   ]
  },
  {
   "cell_type": "code",
   "execution_count": null,
   "metadata": {},
   "outputs": [],
   "source": [
    "git "
   ]
  }
 ],
 "metadata": {
  "kernelspec": {
   "display_name": "Python 3",
   "language": "python",
   "name": "python3"
  },
  "language_info": {
   "codemirror_mode": {
    "name": "ipython",
    "version": 3
   },
   "file_extension": ".py",
   "mimetype": "text/x-python",
   "name": "python",
   "nbconvert_exporter": "python",
   "pygments_lexer": "ipython3",
   "version": "3.8.5"
  }
 },
 "nbformat": 4,
 "nbformat_minor": 1
}
