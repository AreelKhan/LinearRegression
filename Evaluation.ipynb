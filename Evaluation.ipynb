{
 "cells": [
  {
   "cell_type": "code",
   "execution_count": 8,
   "metadata": {
    "pycharm": {
     "name": "#%%\n"
    }
   },
   "outputs": [],
   "source": [
    "import numpy as np\n",
    "import pandas as pd\n",
    "import matplotlib.pyplot as plt\n",
    "\n",
    "from sklearn.datasets import load_diabetes\n",
    "from sklearn.model_selection import train_test_split\n",
    "from sklearn.metrics import mean_squared_error\n",
    "\n",
    "from DataDefinitionFunctions import Functions\n",
    "from LinearRegression import LinearRegression"
   ]
  },
  {
   "cell_type": "markdown",
   "metadata": {},
   "source": [
    "# Testing Univariate Linear Regression"
   ]
  },
  {
   "cell_type": "markdown",
   "metadata": {},
   "source": [
    "## Test 1\n",
    "In this first test, the model is tasked with learning a very simple relation: $2x=y$.\n",
    "For univariate linear regression, the hypothesis function is $y =\\theta_0 + \\theta_1x$.\n",
    "Ideally the model sets $(\\theta_0, \\theta_1) = (0,2)$."
   ]
  },
  {
   "cell_type": "markdown",
   "metadata": {},
   "source": [
    "#### Data and Training\n"
   ]
  },
  {
   "cell_type": "code",
   "execution_count": 9,
   "metadata": {
    "pycharm": {
     "name": "#%%\n"
    }
   },
   "outputs": [
    {
     "name": "stderr",
     "output_type": "stream",
     "text": [
      "100%|███████████████████████████████████████████████████████████████████████████| 3000/3000 [00:00<00:00, 75004.10it/s]\n"
     ]
    }
   ],
   "source": [
    "# Data definition\n",
    "X = np.random.uniform(size=400)\n",
    "Y = Functions.double(X)\n",
    "\n",
    "# Data split\n",
    "X_train, X_test, y_train, y_test = train_test_split(X, Y, test_size=0.30, random_state=69)\n",
    "\n",
    "# Training\n",
    "test1_model = LinearRegression()\n",
    "test1_model.fit(X_train, y_train)"
   ]
  },
  {
   "cell_type": "markdown",
   "metadata": {},
   "source": [
    "#### Testing"
   ]
  },
  {
   "cell_type": "code",
   "execution_count": 10,
   "metadata": {},
   "outputs": [],
   "source": [
    "parameter_diff = test1_model.parameters - (0,2)\n",
    "assert abs(parameter_diff).sum() <= 0.1\n",
    "\n",
    "y_pred = test1_model.pred(X_test)\n",
    "\n",
    "error = mean_squared_error(y_pred, y_test)\n",
    "assert error <= 0.001"
   ]
  },
  {
   "cell_type": "markdown",
   "metadata": {},
   "source": [
    "## Test 2\n",
    "In second test, the model is tasked with learning a slightly more complex relation: $2x+1=y$.  \n",
    "Ideally the model sets $(\\theta_0, \\theta_1) = (1,2)$."
   ]
  },
  {
   "cell_type": "markdown",
   "metadata": {},
   "source": [
    "#### Data and training"
   ]
  },
  {
   "cell_type": "code",
   "execution_count": 12,
   "metadata": {},
   "outputs": [
    {
     "name": "stderr",
     "output_type": "stream",
     "text": [
      "100%|███████████████████████████████████████████████████████████████████████████| 3000/3000 [00:00<00:00, 68118.10it/s]\n"
     ]
    }
   ],
   "source": [
    "# Data definition\n",
    "X = np.random.uniform(size=400)\n",
    "Y = Functions.double_plus_one(X)\n",
    "\n",
    "# Data split\n",
    "X_train, X_test, y_train, y_test = train_test_split(X, Y, test_size=0.30, random_state=69)\n",
    "\n",
    "# Training\n",
    "test2_model = LinearRegression()\n",
    "test2_model.fit(X_train, y_train)"
   ]
  },
  {
   "cell_type": "markdown",
   "metadata": {},
   "source": [
    "#### Testing"
   ]
  },
  {
   "cell_type": "code",
   "execution_count": 15,
   "metadata": {},
   "outputs": [],
   "source": [
    "parameter_diff = test2_model.get_params() - (1,2)\n",
    "assert abs(parameter_diff).sum() <= 0.1\n",
    "\n",
    "y_pred = test2_model.pred(X_test)\n",
    "error = mean_squared_error(y_pred, y_test)\n",
    "assert error <= 0.001"
   ]
  },
  {
   "cell_type": "markdown",
   "metadata": {},
   "source": [
    "## Test 3\n",
    "In the third test, the model is tasked with learning a more complex relation: $-x_1 + 2x_2 =y$.\n",
    "There can be different combinations of parameters that can reflect the behavior of this relation, hence, making a prediction for the value of the trained parameters is pointless. The best way to evaluate this model is to test its accuracy."
   ]
  },
  {
   "cell_type": "markdown",
   "metadata": {},
   "source": [
    "#### Data and training"
   ]
  },
  {
   "cell_type": "code",
   "execution_count": 16,
   "metadata": {},
   "outputs": [
    {
     "name": "stderr",
     "output_type": "stream",
     "text": [
      "100%|███████████████████████████████████████████████████████████████████████████| 3000/3000 [00:00<00:00, 65015.54it/s]\n"
     ]
    }
   ],
   "source": [
    "# Data definition\n",
    "X_1 = np.random.uniform(size=400)\n",
    "X_2 = np.random.uniform(low=-1, high=0, size=400)\n",
    "Y = Functions.negate_plus_double(X_1, X_2)\n",
    "X = np.stack([X_1, X_2], axis=-1)\n",
    "\n",
    "# Data split\n",
    "X_train, X_test, y_train, y_test = train_test_split(X, Y, test_size=0.30, random_state=69)\n",
    "\n",
    "# Training\n",
    "test3_model = LinearRegression()\n",
    "test3_model.fit(X_train, y_train)"
   ]
  },
  {
   "cell_type": "markdown",
   "metadata": {},
   "source": [
    "#### Testing"
   ]
  },
  {
   "cell_type": "code",
   "execution_count": 18,
   "metadata": {},
   "outputs": [],
   "source": [
    "y_pred = test3_model.pred(X_test)\n",
    "error = mean_squared_error(y_pred, y_test)\n",
    "assert error <= 0.001"
   ]
  },
  {
   "cell_type": "markdown",
   "metadata": {},
   "source": [
    "## Test 4\n",
    "As the tests above show, the model performs well on relatively simple relations in the data. It will now be tested against an actual data set."
   ]
  },
  {
   "cell_type": "markdown",
   "metadata": {},
   "source": [
    "#### Data and training"
   ]
  },
  {
   "cell_type": "code",
   "execution_count": 19,
   "metadata": {},
   "outputs": [],
   "source": [
    "X, Y = load_diabetes(return_X_y=True)\n",
    "X_train, X_test, y_train, y_test = train_test_split(X, Y, test_size=0.30, random_state=69)"
   ]
  },
  {
   "cell_type": "code",
   "execution_count": 20,
   "metadata": {},
   "outputs": [
    {
     "name": "stderr",
     "output_type": "stream",
     "text": [
      "100%|███████████████████████████████████████████████████████████████████████████| 3000/3000 [00:00<00:00, 53537.02it/s]\n"
     ]
    }
   ],
   "source": [
    "# Training\n",
    "test4_model = LinearRegression()\n",
    "test4_model.fit(X_train, y_train)"
   ]
  },
  {
   "cell_type": "markdown",
   "metadata": {},
   "source": [
    "#### Testing"
   ]
  },
  {
   "cell_type": "code",
   "execution_count": 21,
   "metadata": {},
   "outputs": [],
   "source": [
    "y_pred = test4_model.pred(X_test)\n",
    "my_error = mean_squared_error(y_pred, y_test)"
   ]
  },
  {
   "cell_type": "code",
   "execution_count": 22,
   "metadata": {},
   "outputs": [],
   "source": [
    "from sklearn.linear_model import LinearRegression\n",
    "reg = LinearRegression().fit(X_train, y_train)\n",
    "y_pred = reg.predict(X_test)\n",
    "sklearn_error = mean_squared_error(y_pred, y_test)"
   ]
  },
  {
   "cell_type": "code",
   "execution_count": 23,
   "metadata": {},
   "outputs": [
    {
     "name": "stdout",
     "output_type": "stream",
     "text": [
      "The error of my model is 2639 and the error of the sklearn linear regression model is 2502. Quite close!\n"
     ]
    }
   ],
   "source": [
    "print(f\"\"\"The error of my model is {round(my_error)} and the error of the sklearn linear regression model is {round(sklearn_error)}. Quite close!\"\"\")"
   ]
  },
  {
   "cell_type": "markdown",
   "metadata": {},
   "source": [
    "The chart below shows the second feature plotted against the target label. In black is the actual value and in blue is the prediction made by my model. The relation is captured reasonably well."
   ]
  },
  {
   "cell_type": "code",
   "execution_count": 25,
   "metadata": {},
   "outputs": [
    {
     "data": {
      "image/png": "[encoded data removed]",
      "text/plain": [
       "<Figure size 432x288 with 1 Axes>"
      ]
     },
     "metadata": {
      "needs_background": "light"
     },
     "output_type": "display_data"
    }
   ],
   "source": [
    "fig = plt.figure()\n",
    "ax1 = fig.add_subplot(111)\n",
    "fig.suptitle(\"Data points of feature 3\")\n",
    "ax1.scatter(X_test[:,2], y_test, color=\"black\", label=\"Actual\")\n",
    "ax1.scatter(X_test[:,2], y_pred, color=\"blue\", label=\"Prediction\")\n",
    "plt.legend(loc='upper left');\n",
    "plt.show()"
   ]
  },
  {
   "cell_type": "code",
   "execution_count": null,
   "metadata": {},
   "outputs": [],
   "source": []
  }
 ],
 "metadata": {
  "kernelspec": {
   "display_name": "Python 3",
   "language": "python",
   "name": "python3"
  },
  "language_info": {
   "codemirror_mode": {
    "name": "ipython",
    "version": 3
   },
   "file_extension": ".py",
   "mimetype": "text/x-python",
   "name": "python",
   "nbconvert_exporter": "python",
   "pygments_lexer": "ipython3",
   "version": "3.8.5"
  }
 },
 "nbformat": 4,
 "nbformat_minor": 1
}
