{
 "cells": [
  {
   "cell_type": "code",
   "execution_count": 1,
   "metadata": {
    "pycharm": {
     "name": "#%%\n"
    }
   },
   "outputs": [],
   "source": [
    "import numpy as np\n",
    "from sklearn.model_selection import train_test_split\n",
    "from sklearn.metrics import mean_squared_error\n",
    "\n",
    "from DataDefinitionFunctions import Functions\n",
    "from LinearRegression import LinearRegression"
   ]
  },
  {
   "cell_type": "markdown",
   "metadata": {},
   "source": [
    "# Testing Univariate Linear Regression"
   ]
  },
  {
   "cell_type": "markdown",
   "metadata": {},
   "source": [
    "## Test 1\n",
    "In this first test, the model is tasked with learning a very simple relation: $2x=y$.\n",
    "For univariate linear regression, the hypothesis function is $y =\\theta_0 + \\theta_1x$.\n",
    "Ideally the model sets $(\\theta_0, \\theta_1) = (0,2)$."
   ]
  },
  {
   "cell_type": "markdown",
   "metadata": {},
   "source": [
    "#### Data and Training\n"
   ]
  },
  {
   "cell_type": "code",
   "execution_count": 2,
   "metadata": {
    "pycharm": {
     "name": "#%%\n"
    }
   },
   "outputs": [
    {
     "name": "stderr",
     "output_type": "stream",
     "text": [
      "100%|███████████████████████████████████████████████████████████████████████████| 2000/2000 [00:00<00:00, 90058.70it/s]\n"
     ]
    }
   ],
   "source": [
    "# Data definition\n",
    "X = np.random.uniform(size=400)\n",
    "Y = Functions.double(X)\n",
    "\n",
    "# Data split\n",
    "X_train, X_test, y_train, y_test = train_test_split(X, Y, test_size=0.30, random_state=69)\n",
    "\n",
    "# Training\n",
    "trained_parameters = LinearRegression.gradient_descent(X_train, y_train, 0.05, 2000)"
   ]
  },
  {
   "cell_type": "markdown",
   "metadata": {},
   "source": [
    "#### Testing"
   ]
  },
  {
   "cell_type": "code",
   "execution_count": 3,
   "metadata": {},
   "outputs": [],
   "source": [
    "parameter_diff = trained_parameters - (0,2)\n",
    "assert abs(parameter_diff).sum() <= 0.1\n",
    "\n",
    "y_pred = np.empty_like(y_test)\n",
    "for i in range(len(X_test)):\n",
    "    y_pred[i] = np.dot(trained_parameters, [1, X_test[i]])\n",
    "    \n",
    "error = mean_squared_error(y_pred, y_test)\n",
    "assert error <= 0.001"
   ]
  },
  {
   "cell_type": "markdown",
   "metadata": {},
   "source": [
    "## Test 2\n",
    "In second test, the model is tasked with learning a slightly more complex relation: $2x+1=y$.  \n",
    "Ideally the model sets $(\\theta_0, \\theta_1) = (1,2)$."
   ]
  },
  {
   "cell_type": "markdown",
   "metadata": {},
   "source": [
    "#### Data and training"
   ]
  },
  {
   "cell_type": "code",
   "execution_count": 4,
   "metadata": {},
   "outputs": [
    {
     "name": "stderr",
     "output_type": "stream",
     "text": [
      "100%|██████████████████████████████████████████████████████████████████████████| 1000/1000 [00:00<00:00, 110507.28it/s]\n"
     ]
    }
   ],
   "source": [
    "# Data definition\n",
    "X = np.random.uniform(size=400)\n",
    "Y = Functions.double_plus_one(X)\n",
    "\n",
    "# Data split\n",
    "X_train, X_test, y_train, y_test = train_test_split(X, Y, test_size=0.30, random_state=69)\n",
    "\n",
    "# Training\n",
    "trained_parameters = LinearRegression.gradient_descent(X_train, y_train)"
   ]
  },
  {
   "cell_type": "markdown",
   "metadata": {},
   "source": [
    "#### Testing"
   ]
  },
  {
   "cell_type": "code",
   "execution_count": 5,
   "metadata": {},
   "outputs": [],
   "source": [
    "parameter_diff = trained_parameters - (1,2)\n",
    "assert abs(parameter_diff).sum() <= 0.1\n",
    "\n",
    "y_pred = np.empty_like(y_test)\n",
    "for i in range(len(X_test)):\n",
    "    y_pred[i] = np.dot(trained_parameters, [1, X_test[i]])\n",
    "    \n",
    "error = mean_squared_error(y_pred, y_test)\n",
    "assert error <= 0.001"
   ]
  },
  {
   "cell_type": "markdown",
   "metadata": {},
   "source": [
    "## Test 3\n",
    "In the third test, the model is tasked with learning a more complex relation: $-x_1 + 2x_2 =y$.\n",
    "There can be different combinations of parameters that can reflect the behavior of this relation, hence, making a prediction for the value of the trained parameters is pointless. The best way to evaluate this model is to test its accuracy."
   ]
  },
  {
   "cell_type": "markdown",
   "metadata": {},
   "source": [
    "#### Data and training"
   ]
  },
  {
   "cell_type": "code",
   "execution_count": 6,
   "metadata": {},
   "outputs": [
    {
     "name": "stderr",
     "output_type": "stream",
     "text": [
      "100%|██████████████████████████████████████████████████████████████████████████| 5000/5000 [00:00<00:00, 166481.59it/s]\n"
     ]
    }
   ],
   "source": [
    "# Data definition\n",
    "X_1 = np.random.uniform(size=400)\n",
    "X_2 = np.random.uniform(low=-1, high=0, size=400)\n",
    "Y = Functions.negate_plus_double(X_1, X_2)\n",
    "X = np.stack([X_1, X_2], axis=-1)\n",
    "\n",
    "# Data split\n",
    "X_train, X_test, y_train, y_test = train_test_split(X, Y, test_size=0.30, random_state=69)\n",
    "\n",
    "# Training\n",
    "trained_parameters = LinearRegression.gradient_descent(X_train, y_train, epochs=5000)"
   ]
  },
  {
   "cell_type": "markdown",
   "metadata": {},
   "source": [
    "#### Testing"
   ]
  },
  {
   "cell_type": "code",
   "execution_count": 7,
   "metadata": {},
   "outputs": [],
   "source": [
    "y_pred = np.empty_like(y_test)\n",
    "for i in range(len(X_test)):\n",
    "    y_pred[i] = np.dot(trained_parameters, np.insert(X_test[i], 0, 1))\n",
    "\n",
    "error = mean_squared_error(y_pred, y_test)\n",
    "assert error <= 0.001"
   ]
  },
  {
   "cell_type": "markdown",
   "metadata": {},
   "source": [
    "## Test 4\n",
    "As the tests above show, the model performs well on relatively simple relations in the data. It will now be tested against an actual data set."
   ]
  },
  {
   "cell_type": "markdown",
   "metadata": {},
   "source": [
    "#### Data and training"
   ]
  },
  {
   "cell_type": "code",
   "execution_count": 8,
   "metadata": {},
   "outputs": [],
   "source": [
    "import pandas as pd\n",
    "from sklearn.datasets import load_diabetes"
   ]
  },
  {
   "cell_type": "code",
   "execution_count": 9,
   "metadata": {},
   "outputs": [],
   "source": [
    "X_df, Y_df = load_diabetes(return_X_y=True, as_frame=True)\n",
    "X = pd.DataFrame.to_numpy(X_df)\n",
    "Y = pd.DataFrame.to_numpy(Y_df)\n",
    "X_train, X_test, y_train, y_test = train_test_split(X, Y, test_size=0.30, random_state=69)"
   ]
  },
  {
   "cell_type": "code",
   "execution_count": 10,
   "metadata": {},
   "outputs": [
    {
     "name": "stderr",
     "output_type": "stream",
     "text": [
      "100%|██████████████████████████████████████████████████████████████████████████| 3000/3000 [00:00<00:00, 125467.77it/s]\n"
     ]
    }
   ],
   "source": [
    "trained_parameters = LinearRegression.gradient_descent(X_train, y_train, learning_rate=0.1, epochs=3000)"
   ]
  },
  {
   "cell_type": "markdown",
   "metadata": {},
   "source": [
    "#### Testing"
   ]
  },
  {
   "cell_type": "code",
   "execution_count": 11,
   "metadata": {},
   "outputs": [],
   "source": [
    "y_pred = np.empty_like(y_test)\n",
    "for i in range(len(X_test)):\n",
    "    y_pred[i] = np.dot(trained_parameters, np.insert(X_test[i], 0, 1))\n",
    "my_error = mean_squared_error(y_pred, y_test)"
   ]
  },
  {
   "cell_type": "code",
   "execution_count": 12,
   "metadata": {},
   "outputs": [],
   "source": [
    "from sklearn.linear_model import LinearRegression\n",
    "reg = LinearRegression().fit(X_train, y_train)\n",
    "y_pred = reg.predict(X_test)\n",
    "sklearn_error = mean_squared_error(y_pred, y_test)"
   ]
  },
  {
   "cell_type": "code",
   "execution_count": 13,
   "metadata": {},
   "outputs": [
    {
     "name": "stdout",
     "output_type": "stream",
     "text": [
      "The error of my model is 2639 and the error of the sklearn linear regression model is 2502. Quite close!\n"
     ]
    }
   ],
   "source": [
    "print(f\"\"\"The error of my model is {round(my_error)} and the error of the sklearn linear regression model is {round(sklearn_error)}. Quite close!\"\"\")"
   ]
  },
  {
   "cell_type": "code",
   "execution_count": null,
   "metadata": {},
   "outputs": [],
   "source": []
  }
 ],
 "metadata": {
  "kernelspec": {
   "display_name": "Python 3",
   "language": "python",
   "name": "python3"
  },
  "language_info": {
   "codemirror_mode": {
    "name": "ipython",
    "version": 3
   },
   "file_extension": ".py",
   "mimetype": "text/x-python",
   "name": "python",
   "nbconvert_exporter": "python",
   "pygments_lexer": "ipython3",
   "version": "3.8.5"
  }
 },
 "nbformat": 4,
 "nbformat_minor": 1
}
